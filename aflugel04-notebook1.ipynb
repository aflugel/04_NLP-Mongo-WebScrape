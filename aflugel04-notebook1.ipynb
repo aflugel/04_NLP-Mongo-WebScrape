{
 "cells": [
  {
   "cell_type": "markdown",
   "metadata": {},
   "source": [
    "Project 4 \"Fletcher\" Notebook 1:  \n",
    "**Scraping data and loading into MongoDB**  \n",
    "  \n",
    "Adam Flugel  \n",
    "Metis Boot Camp, Chicago  \n",
    "Winter 2018"
   ]
  },
  {
   "cell_type": "code",
   "execution_count": 6,
   "metadata": {
    "ExecuteTime": {
     "end_time": "2018-01-29T19:36:15.534585Z",
     "start_time": "2018-01-29T19:36:15.527425Z"
    },
    "collapsed": true
   },
   "outputs": [],
   "source": [
    "import requests\n",
    "from bs4 import BeautifulSoup\n",
    "from collections import defaultdict\n",
    "import pickle\n",
    "import re\n",
    "import os\n",
    "import string\n",
    "from pymongo import MongoClient"
   ]
  },
  {
   "cell_type": "markdown",
   "metadata": {
    "heading_collapsed": true
   },
   "source": [
    "# Individual monologue page scraper"
   ]
  },
  {
   "cell_type": "code",
   "execution_count": 122,
   "metadata": {
    "ExecuteTime": {
     "end_time": "2018-01-29T22:55:05.743039Z",
     "start_time": "2018-01-29T22:55:05.600369Z"
    },
    "collapsed": true,
    "hidden": true
   },
   "outputs": [],
   "source": [
    "def get_soup(url):\n",
    "    \"\"\"Takes a url (string) and returns a BeautifulSoup object\"\"\"\n",
    "    response = requests.get(url)\n",
    "    \n",
    "    assert (response.status_code == 200), \"Problem with url request! %s throws %s\" % (url, response.status_code)   #checking that it worked\n",
    "    \n",
    "    page = response.text\n",
    "    soup = BeautifulSoup(page, \"lxml\")\n",
    "    return soup\n",
    "\n",
    "\n",
    "def get_monologue(soup):\n",
    "    \"\"\"Takes a BeautifulSoup object of an individual monologue page and returns just the\n",
    "    text of the monologue itself. Removes stage directions and character name.\"\"\"\n",
    "    monologue_box = soup.find(class_='monologue')\n",
    "    raw_text = monologue_box.get_text(' ')\n",
    "    \n",
    "    clean_text = re.sub(r'[A-Z]*: ','', raw_text) #remove character name from beginning of monologue\n",
    "    clean_text = re.sub(r'\\[[^()]*?\\]', '', clean_text) #remove stage directions\n",
    "    \n",
    "    return clean_text\n",
    "\n",
    "\n",
    "def get_title(soup):\n",
    "    \"\"\"Takes a BeautifulSoup object of an individual monologue page and returns the title of the work\n",
    "    from which the monologue originated\"\"\"\n",
    "    header = soup.find(class_=\"row body\").h2\n",
    "    raw_title = header.text\n",
    "    \n",
    "    clean_title = string.capwords(raw_title)\n",
    "    \n",
    "    return clean_title \n",
    "    \n",
    "    \n",
    "def get_author(soup):\n",
    "    \"\"\"Takes a BeautifulSoup object of an individual monologue page and returns the author\"\"\"\n",
    "    header = soup.find(class_=\"row body\").h4\n",
    "    raw_text = header.text \n",
    "    \n",
    "    #the header is formatted differently if the author is anonymous\n",
    "    if raw_text == 'An anonymous monologue':\n",
    "        return 'Anonymous'\n",
    "    \n",
    "    else:\n",
    "        clean_text = re.sub(r'.* by ','', raw_text)\n",
    "        return clean_text\n",
    "    \n",
    "    \n",
    "def parse_monologue_page(url):\n",
    "    \"\"\"Takes a string url of an individual monologue page and returns a dictionary\n",
    "    with the monologue text, the author, and the play title\"\"\"\n",
    "    \n",
    "    soup = get_soup(url)\n",
    "    \n",
    "    monologue_info = defaultdict()     #Dictionary to hold the info for this game\n",
    "    \n",
    "    monologue_info['text'] = get_monologue(soup)\n",
    "    monologue_info['title'] = get_title(soup)\n",
    "    monologue_info['author'] = get_author(soup)\n",
    "    \n",
    "    return monologue_info"
   ]
  },
  {
   "cell_type": "markdown",
   "metadata": {
    "heading_collapsed": true
   },
   "source": [
    "# Scrape a set of urls for all the monologues on MonologueArchive"
   ]
  },
  {
   "cell_type": "code",
   "execution_count": 107,
   "metadata": {
    "hidden": true
   },
   "outputs": [],
   "source": [
    "def get_urls(url):\n",
    "    \"\"\"Takes the url for a list of monologues on monologuearchive.com\n",
    "    and returns a set of urls for every individual monologue page in that list.\n",
    "    \n",
    "    input:\n",
    "    url = url for a list of monologues on monologuearchive.com\n",
    "    \n",
    "    returns:\n",
    "    set of urls for each individual monologue from the list page\"\"\"\n",
    "\n",
    "    urls = set()\n",
    "    \n",
    "    soup = get_soup(url)\n",
    "    \n",
    "    tables = soup.find_all(class_='col-md-6')\n",
    "\n",
    "    for table in tables:\n",
    "        link_tags = table.find_all('a')\n",
    "\n",
    "        for tag in link_tags:\n",
    "            url_tail = tag['href']\n",
    "            url = url_tail.replace('..', 'http://www.monologuearchive.com')\n",
    "\n",
    "            urls.add(url)\n",
    "\n",
    "    return urls"
   ]
  },
  {
   "cell_type": "code",
   "execution_count": 81,
   "metadata": {
    "hidden": true
   },
   "outputs": [],
   "source": [
    "#create a set of monologue urls for each category\n",
    "#also creates a master list with each unique monologue url\n",
    "\n",
    "url_master = set()\n",
    "comic_men = get_urls('http://www.monologuearchive.com/comic_men.html')\n",
    "url_master.update(comic_men)\n",
    "drama_men = get_urls('http://www.monologuearchive.com/dramatic_men.html')\n",
    "url_master.update(drama_men)\n",
    "classic_men = get_urls('http://www.monologuearchive.com/classical_men.html')\n",
    "url_master.update(classic_men)\n",
    "seniors = get_urls('http://www.monologuearchive.com/seniors.html')\n",
    "url_master.update(seniors)\n",
    "comic_women = get_urls('http://www.monologuearchive.com/comic_women.html')\n",
    "url_master.update(comic_women)\n",
    "drama_women = get_urls('http://www.monologuearchive.com/dramatic_women.html')\n",
    "url_master.update(drama_women)\n",
    "classic_women = get_urls('http://www.monologuearchive.com/classical_women.html')\n",
    "url_master.update(classic_women)\n",
    "children = get_urls('http://www.monologuearchive.com/children.html')\n",
    "url_master.update(children)"
   ]
  },
  {
   "cell_type": "markdown",
   "metadata": {
    "heading_collapsed": true
   },
   "source": [
    "# Scrape and data for all monologues on MonologueArchive and add to MongoDB"
   ]
  },
  {
   "cell_type": "code",
   "execution_count": 124,
   "metadata": {
    "ExecuteTime": {
     "end_time": "2018-01-30T02:05:07.517427Z",
     "start_time": "2018-01-30T01:51:46.612490Z"
    },
    "collapsed": true,
    "hidden": true
   },
   "outputs": [],
   "source": [
    "#connect to mongo and create the collection\n",
    "client = MongoClient(port=12345)\n",
    "db = client.new_dank_database\n",
    "\n",
    "collection = db.monologues"
   ]
  },
  {
   "cell_type": "code",
   "execution_count": 125,
   "metadata": {
    "ExecuteTime": {
     "end_time": "2018-01-30T02:05:07.517427Z",
     "start_time": "2018-01-30T01:51:46.612490Z"
    },
    "collapsed": true,
    "hidden": true
   },
   "outputs": [],
   "source": [
    "document_list = []\n",
    "\n",
    "for url in url_master:\n",
    "    monologue = parse_monologue_page(url)\n",
    "    \n",
    "    categories = []\n",
    "    \n",
    "    if url in comic_men:\n",
    "        categories.append('comic_men')\n",
    "    \n",
    "    if url in drama_men:\n",
    "        categories.append('drama_men')\n",
    "        \n",
    "    if url in classic_men:\n",
    "        categories.append('classic_men')\n",
    "        \n",
    "    if url in seniors:\n",
    "        categories.append('seniors')\n",
    "\n",
    "    if url in comic_women:\n",
    "        categories.append('comic_women')\n",
    "\n",
    "    if url in drama_women:\n",
    "        categories.append('drama_women')\n",
    "\n",
    "    if url in classic_women:\n",
    "        categories.append('classic_women')\n",
    "        \n",
    "    if url in children:\n",
    "        categories.append('children')\n",
    "    \n",
    "    monologue['category'] = tuple(categories)\n",
    "    \n",
    "    document_list.append(monologue)"
   ]
  },
  {
   "cell_type": "code",
   "execution_count": 126,
   "metadata": {
    "hidden": true
   },
   "outputs": [],
   "source": [
    "#saving all scraped data as pickle to avoid re-scraping\n",
    "with open('all_docs.pk1', 'wb') as f:\n",
    "    pickle.dump(document_list, f)"
   ]
  },
  {
   "cell_type": "code",
   "execution_count": 127,
   "metadata": {
    "hidden": true
   },
   "outputs": [
    {
     "data": {
      "text/plain": [
       "<pymongo.results.InsertManyResult at 0x1150ffcf0>"
      ]
     },
     "execution_count": 127,
     "metadata": {},
     "output_type": "execute_result"
    }
   ],
   "source": [
    "#insert all of the docs at once\n",
    "collection.insert_many(document_list)"
   ]
  },
  {
   "cell_type": "code",
   "execution_count": 128,
   "metadata": {
    "hidden": true
   },
   "outputs": [
    {
     "data": {
      "text/plain": [
       "{'_id': ObjectId('5a9db0bfa787026d63428f81'),\n",
       " 'author': 'Walter Wykes',\n",
       " 'category': ['comic_men'],\n",
       " 'text': \"Hey! Don't touch that! That's my orange! MINE!!!  Sorry. I'm sorry. I ... I don't mean to be stingy. I'm sure you're very hungry, but I can't allow you to eat this orange. It's just that ... well, it's ... it's the key to everything! I know that doesn't seem to make much sense. I don't understand it quite yet myself. But one has to have faith, you know, that ... well, that everything will come clear in the end.  It ... it must be nice to be a halfwit. A vagrant, I mean. A wanderer. You don't have to contemplate. If you're hungry, you eat. Everything's basic. Primitive. Nothing to confuse the issue. No one to push you around ... tell you what to do. Maybe ... maybe I should join you!  Hey ... maybe ... maybe I should! They'd never find me then! And if they did ... well, they wouldn't recognize me! I'll bet people don't even give you a second look, do they?! They probably cross the street when they see you coming! That's it! That's the answer! I'll be an outcast! What do you think?  What's so funny? I could be an outcast! I ... I admit I don't have much experience, but I've always thought of myself as living on the fringes, you know. I'm an outlaw at heart! Once, when I was five or six ... don't tell anyone, but ... I once stole a whole handful of comic books from a retarded boy that lived down the street! Lifted them right under his nose!  All right, I ... I took them back the next day, but it's the thought that counts!  You're not impressed.  I guess maybe a ... a true outcast only takes what he needs to survive. Is that it? You probably have your own code of conduct. Like the samurai. But I ... I could learn! You could teach me!  I think I'd make a respectable outcast!  All right, what's ... what's wrong with me? Is it the shoes? You're rightâ\\x80\\x93shoes might draw attention! Shoes are much too mainstream for me anyway! I've never really liked them! They chafe your feet! Give you blisters!  There!  I ... I suppose I should get rid of the socks too?  There! You seeâ\\x80\\x93I'm willing to make sacrifices. I don't ask for special treatment. I just want to be a regular outcast like everyone else.  What?  What is it? The pants? Just tell me what to do. I'm willing to do whatever it takes. Only I ... I don't have anything else to wear. This is all I've got. I admit, it's a bit dressy for your average outcast, but ... I ... I could dirty it up a bit. A few properly placed smudges, a rip here and there, and you won't recognize it!  This ... ahh ... this is ... good ... good fabric. Maybe if I try the seams.  Oh! Wait! I've got it! We could trade! You want to trade?! You know, they say well dressed panhandlers are much more successful! People are more likely to give you a few dollars if you're wearing a coat and tie because they know you must really be in a bind! I ... I know it doesn't make much sense, but it's a proven fact!  Just ... just take off your clothes. I'll even throw in the shoes. And the socks, if you'd like. They're a little smelly, but ...  Believe me, you won't be sorry. Those are very expensive shoes! Some kind of fancy leather. My ... my wife, Ibid, bought them for me ...  Ibid ...  She ... she has very good taste in ... in clothes.  Here. Take them.  You want the coat too? Take it! And the tie! Take it all! I don't need it anymore! There! I feel much better now! Free! So this is what it's like to be an outcast!  What? I ... I still don't qualify? But I've met all the requirements. I mean, I'm sure there are some spiritual aspects that I'll ... I'll have to grow into ... certainly. I mean, I'm sure there are several levels of vagrancy and ... and I can't expect to attain the highest levels right away. These things take time. I'm sure you've been at it for years, and you want to protect your status by making newcomers serve a ... a sort of apprenticeship so to speak. And I'm willing to do that! I'm committed for the long term! But surely I qualify as at least a Level One outcast! I mean, one has to have some kind assurance that one is moving in the right direction! After all, I've given up everything! I've sworn off all material possessions!  What?  You don't mean this? It's not for material reasons that I'm attached to it! It's what the orange represents! Why can't I be an outcast with an orange? Where is it written that an outcast can't own a little piece of fruit?!  What?  Your hand.  Reading. Hand-reading? Braille? Blind?  Book.  Hand. Book.  The handbook!  No! Oh, no!  You're lying! There is no handbook! I refuse to believe it! It's a lie! A fabrication! You just want me to feel I've been left in the dark! Well, I ... I won't have it! Do you hear?! I won't have it! I refuse to cooperate! How do you like that?!\",\n",
       " 'title': 'The Profession'}"
      ]
     },
     "execution_count": 128,
     "metadata": {},
     "output_type": "execute_result"
    }
   ],
   "source": [
    "query = collection.find()\n",
    "query.next()"
   ]
  },
  {
   "cell_type": "code",
   "execution_count": 129,
   "metadata": {
    "hidden": true
   },
   "outputs": [
    {
     "data": {
      "text/plain": [
       "465"
      ]
     },
     "execution_count": 129,
     "metadata": {},
     "output_type": "execute_result"
    }
   ],
   "source": [
    "collection.count() #checking that all monologues made it in"
   ]
  }
 ],
 "metadata": {
  "kernelspec": {
   "display_name": "Python 3",
   "language": "python",
   "name": "python3"
  },
  "language_info": {
   "codemirror_mode": {
    "name": "ipython",
    "version": 3
   },
   "file_extension": ".py",
   "mimetype": "text/x-python",
   "name": "python",
   "nbconvert_exporter": "python",
   "pygments_lexer": "ipython3",
   "version": "3.6.4"
  },
  "toc": {
   "nav_menu": {},
   "number_sections": true,
   "sideBar": true,
   "skip_h1_title": false,
   "title_cell": "Table of Contents",
   "title_sidebar": "Contents",
   "toc_cell": false,
   "toc_position": {
    "height": "calc(100% - 180px)",
    "left": "10px",
    "top": "150px",
    "width": "315px"
   },
   "toc_section_display": true,
   "toc_window_display": true
  },
  "varInspector": {
   "cols": {
    "lenName": 16,
    "lenType": 16,
    "lenVar": 40
   },
   "kernels_config": {
    "python": {
     "delete_cmd_postfix": "",
     "delete_cmd_prefix": "del ",
     "library": "var_list.py",
     "varRefreshCmd": "print(var_dic_list())"
    },
    "r": {
     "delete_cmd_postfix": ") ",
     "delete_cmd_prefix": "rm(",
     "library": "var_list.r",
     "varRefreshCmd": "cat(var_dic_list()) "
    }
   },
   "types_to_exclude": [
    "module",
    "function",
    "builtin_function_or_method",
    "instance",
    "_Feature"
   ],
   "window_display": false
  }
 },
 "nbformat": 4,
 "nbformat_minor": 2
}
